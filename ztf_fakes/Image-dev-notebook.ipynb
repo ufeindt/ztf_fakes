{
 "cells": [
  {
   "cell_type": "markdown",
   "metadata": {},
   "source": [
    "### Notebook to create a CalibratedImage object test methods\n",
    "\n",
    "Import statements"
   ]
  },
  {
   "cell_type": "code",
   "execution_count": 1,
   "metadata": {},
   "outputs": [],
   "source": [
    "import os\n",
    "import numpy as np\n",
    "from astropy.io import fits\n",
    "import pylab as plt\n",
    "import logging\n",
    "from ConfigParser import ConfigParser"
   ]
  },
  {
   "cell_type": "markdown",
   "metadata": {},
   "source": [
    "Choose a PTF image file and a SExtractor catalog file to create a image object. Here there is a sample PTF image obtained from the IRSA website (http://irsa.ipac.caltech.edu/applications/ptf/) along with the SExtractor catalog file."
   ]
  },
  {
   "cell_type": "code",
   "execution_count": 2,
   "metadata": {
    "collapsed": true
   },
   "outputs": [],
   "source": [
    "image_file = 'etc/PTF_200907224952_i_p_scie_t115307_u012001395_f02_p001572_c05_ra3.5166_dec-23.1821_asec500.fits'\n",
    "se_cat_file= 'etc/PTF_200907224952_c_p_scie_t115307_u012001395_f02_p001572_c05.ctlg'"
   ]
  },
  {
   "cell_type": "markdown",
   "metadata": {},
   "source": [
    "The image looks like the following"
   ]
  },
  {
   "cell_type": "code",
   "execution_count": 3,
   "metadata": {},
   "outputs": [
    {
     "data": {
      "text/plain": [
       "<matplotlib.image.AxesImage at 0x7f79d565dd50>"
      ]
     },
     "execution_count": 3,
     "metadata": {},
     "output_type": "execute_result"
    },
    {
     "data": {
      "image/png": "[encoded data removed]",
      "text/plain": [
       "<matplotlib.figure.Figure at 0x7f79d78204d0>"
      ]
     },
     "metadata": {},
     "output_type": "display_data"
    }
   ],
   "source": [
    "%matplotlib inline\n",
    "image_data = fits.getdata(image_file)\n",
    "plt.imshow(image_data, cmap='gray')\n",
    "#plt.show()"
   ]
  },
  {
   "cell_type": "markdown",
   "metadata": {},
   "source": [
    "- Create a logger object to write logs into. By default it is created in the *etc* directory.\n",
    "- Also point to a config file. The script write_config.py will write one in the *etc* directory"
   ]
  },
  {
   "cell_type": "code",
   "execution_count": 4,
   "metadata": {},
   "outputs": [
    {
     "data": {
      "text/plain": [
       "<matplotlib.figure.Figure at 0x7f79d78201d0>"
      ]
     },
     "metadata": {},
     "output_type": "display_data"
    }
   ],
   "source": [
    "run config_writer.py"
   ]
  },
  {
   "cell_type": "code",
   "execution_count": 5,
   "metadata": {},
   "outputs": [
    {
     "data": {
      "text/plain": [
       "[u'/home/deep/github/ztf_fakes/ztf_fakes/etc/conf.ini']"
      ]
     },
     "execution_count": 5,
     "metadata": {},
     "output_type": "execute_result"
    }
   ],
   "source": [
    "#log_fmt = '%(asctime) -- %(levelname) : %(message)'\n",
    "logfile = os.path.join(os.getcwdu(), 'etc/fakes.log')\n",
    "confile = os.path.join(os.getcwdu(), 'etc/conf.ini')\n",
    "logging.basicConfig(filename = logfile, filemode = 'w', level = logging.DEBUG)\n",
    "logger  = logging.getLogger()\n",
    "config  = ConfigParser()\n",
    "config.read(confile)"
   ]
  },
  {
   "cell_type": "markdown",
   "metadata": {},
   "source": [
    "The logging.basicConfig(...) might give a deprecation warning for Python3 about the way the filename is passed. It asks to supply unicode strings. But this is fine for us.\n",
    "\n",
    "#### We can create the CalibratedImage object"
   ]
  },
  {
   "cell_type": "code",
   "execution_count": 6,
   "metadata": {},
   "outputs": [],
   "source": [
    "from image import CalibratedImage\n",
    "\n",
    "img_obj = CalibratedImage(image_file, se_cat_file, config=config, logger=logger)"
   ]
  },
  {
   "cell_type": "markdown",
   "metadata": {},
   "source": [
    "#### Test out the methods\n",
    "- There are many method names ending in _Check_. Each returns a boolean array (a mask) which can be used anytime later to pull out the data from the SExtractor catalog.\n",
    "- Each check reads for a max and min value from the config file, which are supposed to be the upper and lower cuts  of the check. For example _starElgnCheck()_ filters the objects based on the cuts applied.\n",
    "- If the upper and lower values are not supplied (no value in the config file), it is assumed that bound is not to be supplied (see config file).\n",
    "- Stars and Galaxies have separate checks, since the constraint put on each might be different."
   ]
  },
  {
   "cell_type": "code",
   "execution_count": 7,
   "metadata": {},
   "outputs": [
    {
     "name": "stdout",
     "output_type": "stream",
     "text": [
      "[False False  True ...,  True  True  True]\n",
      "2070\n"
     ]
    }
   ],
   "source": [
    "check1 = img_obj.starFWHMCheck()\n",
    "check2 = img_obj.galMagCheck()\n",
    "print check1\n",
    "print np.sum(check2)"
   ]
  },
  {
   "cell_type": "markdown",
   "metadata": {
    "collapsed": true
   },
   "source": [
    "#### Perform all the checks on the stars and print the filtered SE catalog\n"
   ]
  },
  {
   "cell_type": "code",
   "execution_count": 8,
   "metadata": {},
   "outputs": [
    {
     "data": {
      "text/html": [
       "&lt;Table length=162&gt;\n",
       "<table id=\"table140161217484048\" class=\"table-striped table-bordered table-condensed\">\n",
       "<thead><tr><th>id</th><th>zp</th><th>flags</th><th>fwhm</th><th>flux</th><th>mag</th><th>x</th><th>y</th><th>bkgnd</th><th>elgn</th><th>x2</th><th>y2</th><th>xy</th><th>theta</th><th>A</th><th>B</th><th>class_st</th></tr></thead>\n",
       "<thead><tr><th></th><th></th><th></th><th>pix</th><th>ct</th><th>mag</th><th>pix</th><th>pix</th><th>ct</th><th></th><th>pix2</th><th>pix2</th><th>pix2</th><th>deg</th><th>pix</th><th>pix</th><th></th></tr></thead>\n",
       "<thead><tr><th>int32</th><th>float32</th><th>int16</th><th>float32</th><th>float32</th><th>float32</th><th>float32</th><th>float32</th><th>float32</th><th>float32</th><th>float64</th><th>float64</th><th>float64</th><th>float32</th><th>float32</th><th>float32</th><th>float32</th></tr></thead>\n",
       "<tr><td>22</td><td>27.5167</td><td>0</td><td>2.95301</td><td>1459.73</td><td>-7.91068</td><td>711.444</td><td>24.3477</td><td>2438.99</td><td>1.32706</td><td>0.941225525005</td><td>0.865935112539</td><td>0.246210965702</td><td>40.6535</td><td>1.07362</td><td>0.809017</td><td>0.90045</td></tr>\n",
       "<tr><td>44</td><td>27.517</td><td>0</td><td>2.89184</td><td>1071.14</td><td>-7.57462</td><td>897.855</td><td>67.709</td><td>2433.9</td><td>1.3207</td><td>0.496790410268</td><td>0.74935340492</td><td>-0.112278249221</td><td>-69.1797</td><td>0.889972</td><td>0.673865</td><td>0.612547</td></tr>\n",
       "<tr><td>45</td><td>27.5173</td><td>0</td><td>3.13156</td><td>1016.11</td><td>-7.51735</td><td>826.305</td><td>67.8023</td><td>2431.83</td><td>1.34814</td><td>0.7269252271</td><td>0.50169815735</td><td>0.138158170808</td><td>25.4082</td><td>0.890254</td><td>0.660357</td><td>0.614655</td></tr>\n",
       "<tr><td>57</td><td>27.5162</td><td>0</td><td>3.5409</td><td>2287.87</td><td>-8.39858</td><td>1569.63</td><td>94.0704</td><td>2433.09</td><td>1.55608</td><td>1.26295123053</td><td>0.552445807536</td><td>0.126482693231</td><td>9.79878</td><td>1.13349</td><td>0.728424</td><td>0.737999</td></tr>\n",
       "<tr><td>77</td><td>27.5261</td><td>0</td><td>2.42015</td><td>1050.07</td><td>-7.55304</td><td>1858.37</td><td>137.778</td><td>2454.3</td><td>1.25024</td><td>0.66673459743</td><td>0.866324377903</td><td>-0.135648407044</td><td>-63.1707</td><td>0.966919</td><td>0.773386</td><td>0.680467</td></tr>\n",
       "<tr><td>87</td><td>27.5138</td><td>0</td><td>3.3882</td><td>1595.3</td><td>-8.0071</td><td>1041.37</td><td>147.636</td><td>2430.93</td><td>1.28195</td><td>1.20009557792</td><td>0.905154890065</td><td>0.209513931202</td><td>27.4297</td><td>1.14404</td><td>0.892421</td><td>0.840166</td></tr>\n",
       "<tr><td>132</td><td>27.5114</td><td>0</td><td>3.04797</td><td>1632.04</td><td>-8.03183</td><td>1051.8</td><td>230.257</td><td>2428.82</td><td>1.27277</td><td>1.16673877856</td><td>0.768578727119</td><td>0.113109237427</td><td>14.8017</td><td>1.0939</td><td>0.859471</td><td>0.830563</td></tr>\n",
       "<tr><td>143</td><td>27.5282</td><td>24</td><td>5.13062</td><td>1729.66</td><td>-8.0949</td><td>2046.63</td><td>255.242</td><td>2462.9</td><td>1.28629</td><td>0.883974233205</td><td>1.1865430969</td><td>0.205605378919</td><td>63.1728</td><td>1.13601</td><td>0.883172</td><td>0.921066</td></tr>\n",
       "<tr><td>146</td><td>27.5214</td><td>0</td><td>4.54957</td><td>1363.74</td><td>-7.83683</td><td>1837.6</td><td>264.629</td><td>2446.4</td><td>1.54194</td><td>0.992652058765</td><td>0.624251386059</td><td>0.273485193464</td><td>28.0193</td><td>1.06686</td><td>0.691895</td><td>0.809504</td></tr>\n",
       "<tr><td>...</td><td>...</td><td>...</td><td>...</td><td>...</td><td>...</td><td>...</td><td>...</td><td>...</td><td>...</td><td>...</td><td>...</td><td>...</td><td>...</td><td>...</td><td>...</td><td>...</td></tr>\n",
       "<tr><td>2595</td><td>27.503</td><td>0</td><td>2.21945</td><td>1255.75</td><td>-7.74726</td><td>95.5929</td><td>3381.14</td><td>2454.6</td><td>1.36763</td><td>0.926847978985</td><td>0.542428032447</td><td>-0.112610199565</td><td>-15.1824</td><td>0.978471</td><td>0.715451</td><td>0.758821</td></tr>\n",
       "<tr><td>2617</td><td>27.5127</td><td>0</td><td>3.69705</td><td>1358.05</td><td>-7.83229</td><td>947.433</td><td>2942.76</td><td>2452.76</td><td>1.27618</td><td>0.805673339965</td><td>0.941292759361</td><td>0.197578469573</td><td>54.4712</td><td>1.04037</td><td>0.815225</td><td>0.62709</td></tr>\n",
       "<tr><td>2640</td><td>27.5097</td><td>0</td><td>2.91457</td><td>1369.49</td><td>-7.84139</td><td>698.892</td><td>3323.22</td><td>2453.87</td><td>1.26112</td><td>0.569606408764</td><td>0.8688243414</td><td>-0.0670035037937</td><td>-77.9372</td><td>0.939757</td><td>0.745176</td><td>0.637072</td></tr>\n",
       "<tr><td>2682</td><td>27.5096</td><td>0</td><td>5.44459</td><td>2658.46</td><td>-8.56158</td><td>952.623</td><td>3218.05</td><td>2451.07</td><td>1.61199</td><td>0.746199107029</td><td>1.47057221027</td><td>0.33353076569</td><td>68.6793</td><td>1.26521</td><td>0.784871</td><td>0.958361</td></tr>\n",
       "<tr><td>2683</td><td>27.5059</td><td>0</td><td>2.93207</td><td>2028.97</td><td>-8.26819</td><td>65.0933</td><td>3245.18</td><td>2453.9</td><td>1.34166</td><td>1.08914926584</td><td>0.994100388463</td><td>0.293803951954</td><td>40.4058</td><td>1.15726</td><td>0.862556</td><td>0.698709</td></tr>\n",
       "<tr><td>2691</td><td>27.5088</td><td>4</td><td>5.34841</td><td>409921.0</td><td>-14.0318</td><td>1535.8</td><td>3206.89</td><td>2448.47</td><td>1.47409</td><td>4.40631535128</td><td>2.24057906832</td><td>0.58033661213</td><td>14.094</td><td>2.13355</td><td>1.44737</td><td>0.933669</td></tr>\n",
       "<tr><td>2722</td><td>27.496</td><td>0</td><td>5.64245</td><td>1803.55</td><td>-8.14032</td><td>14.2326</td><td>3765.5</td><td>2447.66</td><td>2.94598</td><td>0.479889827996</td><td>2.74556405591</td><td>-0.594764707715</td><td>-76.1498</td><td>1.70065</td><td>0.577277</td><td>0.96192</td></tr>\n",
       "<tr><td>2767</td><td>27.5076</td><td>0</td><td>2.89907</td><td>1273.11</td><td>-7.76216</td><td>194.418</td><td>3070.54</td><td>2454.55</td><td>1.29829</td><td>0.840532009648</td><td>0.763807105734</td><td>0.201147153734</td><td>39.6012</td><td>1.00347</td><td>0.772915</td><td>0.792121</td></tr>\n",
       "<tr><td>2771</td><td>27.5105</td><td>0</td><td>5.61715</td><td>4543.93</td><td>-9.14358</td><td>617.649</td><td>3034.71</td><td>2453.08</td><td>2.86005</td><td>0.701433557692</td><td>4.77479108939</td><td>-0.662002465978</td><td>-80.9969</td><td>2.209</td><td>0.772364</td><td>0.981712</td></tr>\n",
       "<tr><td>2810</td><td>27.5094</td><td>2</td><td>6.40776</td><td>6782.36</td><td>-9.57845</td><td>430.957</td><td>2937.79</td><td>2455.39</td><td>1.79964</td><td>1.65412449257</td><td>3.79559561573</td><td>-0.961614716369</td><td>-69.0367</td><td>2.04059</td><td>1.13389</td><td>0.84898</td></tr>\n",
       "</table>"
      ],
      "text/plain": [
       "<Table length=162>\n",
       "  id     zp   flags   fwhm    flux   ...  theta      A        B     class_st\n",
       "                      pix      ct    ...   deg      pix      pix            \n",
       "int32 float32 int16 float32 float32  ... float32  float32  float32  float32 \n",
       "----- ------- ----- ------- -------- ... -------- -------- -------- --------\n",
       "   22 27.5167     0 2.95301  1459.73 ...  40.6535  1.07362 0.809017  0.90045\n",
       "   44  27.517     0 2.89184  1071.14 ... -69.1797 0.889972 0.673865 0.612547\n",
       "   45 27.5173     0 3.13156  1016.11 ...  25.4082 0.890254 0.660357 0.614655\n",
       "   57 27.5162     0  3.5409  2287.87 ...  9.79878  1.13349 0.728424 0.737999\n",
       "   77 27.5261     0 2.42015  1050.07 ... -63.1707 0.966919 0.773386 0.680467\n",
       "   87 27.5138     0  3.3882   1595.3 ...  27.4297  1.14404 0.892421 0.840166\n",
       "  132 27.5114     0 3.04797  1632.04 ...  14.8017   1.0939 0.859471 0.830563\n",
       "  143 27.5282    24 5.13062  1729.66 ...  63.1728  1.13601 0.883172 0.921066\n",
       "  146 27.5214     0 4.54957  1363.74 ...  28.0193  1.06686 0.691895 0.809504\n",
       "  ...     ...   ...     ...      ... ...      ...      ...      ...      ...\n",
       " 2595  27.503     0 2.21945  1255.75 ... -15.1824 0.978471 0.715451 0.758821\n",
       " 2617 27.5127     0 3.69705  1358.05 ...  54.4712  1.04037 0.815225  0.62709\n",
       " 2640 27.5097     0 2.91457  1369.49 ... -77.9372 0.939757 0.745176 0.637072\n",
       " 2682 27.5096     0 5.44459  2658.46 ...  68.6793  1.26521 0.784871 0.958361\n",
       " 2683 27.5059     0 2.93207  2028.97 ...  40.4058  1.15726 0.862556 0.698709\n",
       " 2691 27.5088     4 5.34841 409921.0 ...   14.094  2.13355  1.44737 0.933669\n",
       " 2722  27.496     0 5.64245  1803.55 ... -76.1498  1.70065 0.577277  0.96192\n",
       " 2767 27.5076     0 2.89907  1273.11 ...  39.6012  1.00347 0.772915 0.792121\n",
       " 2771 27.5105     0 5.61715  4543.93 ... -80.9969    2.209 0.772364 0.981712\n",
       " 2810 27.5094     2 6.40776  6782.36 ... -69.0367  2.04059  1.13389  0.84898"
      ]
     },
     "execution_count": 8,
     "metadata": {},
     "output_type": "execute_result"
    }
   ],
   "source": [
    "img_obj.giveStarsTable()"
   ]
  }
 ],
 "metadata": {
  "kernelspec": {
   "display_name": "Python 2",
   "language": "python",
   "name": "python2"
  },
  "language_info": {
   "codemirror_mode": {
    "name": "ipython",
    "version": 2
   },
   "file_extension": ".py",
   "mimetype": "text/x-python",
   "name": "python",
   "nbconvert_exporter": "python",
   "pygments_lexer": "ipython2",
   "version": "2.7.13"
  }
 },
 "nbformat": 4,
 "nbformat_minor": 2
}
