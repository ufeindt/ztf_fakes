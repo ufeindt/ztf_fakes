{
 "cells": [
  {
   "cell_type": "markdown",
   "metadata": {},
   "source": [
    "### Notebook to create a CalibratedImage object test methods\n",
    "\n",
    "Import statements"
   ]
  },
  {
   "cell_type": "code",
   "execution_count": null,
   "metadata": {
    "collapsed": true
   },
   "outputs": [],
   "source": [
    "import os\n",
    "import numpy as np\n",
    "from astropy.io import fits\n",
    "import pylab as plt\n",
    "import logging\n",
    "from ConfigParser import ConfigParser"
   ]
  },
  {
   "cell_type": "markdown",
   "metadata": {},
   "source": [
    "Choose a PTF image file and a SExtractor catalog file to create a image object. Here there is a sample PTF image obtained from the IRSA website (http://irsa.ipac.caltech.edu/applications/ptf/) along with the SExtractor catalog file."
   ]
  },
  {
   "cell_type": "code",
   "execution_count": null,
   "metadata": {
    "collapsed": true
   },
   "outputs": [],
   "source": [
    "image_file = 'etc/PTF_200903171534_i_p_scie_t034051_u012218978_f02_p100037_c02.fits'\n",
    "se_cat_file= 'etc/PTF_200903171534_c_p_scie_t034051_u012218978_f02_p100037_c02.ctlg'"
   ]
  },
  {
   "cell_type": "markdown",
   "metadata": {},
   "source": [
    "The image looks like the following"
   ]
  },
  {
   "cell_type": "code",
   "execution_count": null,
   "metadata": {},
   "outputs": [],
   "source": [
    "%matplotlib inline\n",
    "image_data = fits.getdata(image_file)\n",
    "plt.imshow(image_data, cmap='gray')\n",
    "#plt.show()"
   ]
  },
  {
   "cell_type": "markdown",
   "metadata": {},
   "source": [
    "- Create a logger object to write logs into. By default it is created in the *etc* directory.\n",
    "- Also point to a config file. The script write_config.py will write one in the *etc* directory"
   ]
  },
  {
   "cell_type": "code",
   "execution_count": null,
   "metadata": {},
   "outputs": [],
   "source": [
    "run config_writer.py"
   ]
  },
  {
   "cell_type": "code",
   "execution_count": null,
   "metadata": {},
   "outputs": [],
   "source": [
    "#log_fmt = '%(asctime) -- %(levelname) : %(message)'\n",
    "logfile = os.path.join(os.getcwdu(), 'etc/fakes.log')\n",
    "confile = os.path.join(os.getcwdu(), 'etc/conf.ini')\n",
    "logging.basicConfig(filename = logfile, filemode = 'w', level = logging.DEBUG)\n",
    "logger  = logging.getLogger()\n",
    "config  = ConfigParser()\n",
    "config.read(confile)"
   ]
  },
  {
   "cell_type": "markdown",
   "metadata": {},
   "source": [
    "The logging.basicConfig(...) might give a deprecation warning for Python3 about the way the filename is passed. It asks to supply unicode strings. But this is fine for us.\n",
    "\n",
    "#### We can create the CalibratedImage object"
   ]
  },
  {
   "cell_type": "code",
   "execution_count": null,
   "metadata": {
    "collapsed": true
   },
   "outputs": [],
   "source": [
    "from image import CalibratedImage\n",
    "\n",
    "img_obj = CalibratedImage(image_file, se_cat_file, config=config, logger=logger)"
   ]
  },
  {
   "cell_type": "markdown",
   "metadata": {},
   "source": [
    "#### Test out the methods\n",
    "- There are many method names ending in _Check_. Each returns a boolean array (a mask) which can be used anytime later to pull out the data from the SExtractor catalog.\n",
    "- Each check reads for a max and min value from the config file, which are supposed to be the upper and lower cuts  of the check. For example _starElgnCheck()_ filters the objects based on the cuts applied.\n",
    "- If the upper and lower values are not supplied (no value in the config file), it is assumed that bound is not to be supplied (see config file).\n",
    "- Stars and Galaxies have separate checks, since the constraint put on each might be different."
   ]
  },
  {
   "cell_type": "code",
   "execution_count": null,
   "metadata": {},
   "outputs": [],
   "source": [
    "check1 = img_obj.starFWHMCheck()\n",
    "check2 = img_obj.galMagCheck()\n",
    "print check1\n",
    "print np.sum(check2)"
   ]
  },
  {
   "cell_type": "markdown",
   "metadata": {
    "collapsed": true
   },
   "source": [
    "#### Perform all the checks on the stars and print the filtered SE catalog\n"
   ]
  },
  {
   "cell_type": "code",
   "execution_count": null,
   "metadata": {},
   "outputs": [],
   "source": [
    "img_obj.giveStarsTable()"
   ]
  },
  {
   "cell_type": "code",
   "execution_count": null,
   "metadata": {},
   "outputs": [],
   "source": [
    "img_obj.giveGalaxiesTable()"
   ]
  },
  {
   "cell_type": "markdown",
   "metadata": {},
   "source": [
    "### Clone Stamped injection\n",
    "\n",
    "Clone stamping takes one part of the image and _stamp_ it into another part. For example, pick out a bright star in an image and put it in a galaxy. \n",
    "- We need to specify a grid, say 20x20 pixels, that will be stamped.\n",
    "- Need to subtract the backgrouond from the source location\n",
    "- Scale the image i.e. make the source brighter or dimmer (maybe change the PSF in the future)\n",
    "- Add it to the target location."
   ]
  },
  {
   "cell_type": "code",
   "execution_count": null,
   "metadata": {
    "collapsed": true
   },
   "outputs": [],
   "source": [
    "from image import CloneStampedInjection\n",
    "\n",
    "clone_image_obj = CloneStampedInjection(image_file, se_cat_file, num_inj=3, config=config, logger=logger)"
   ]
  },
  {
   "cell_type": "markdown",
   "metadata": {},
   "source": [
    "We need to supply how many injections we want to make, using the parameter *num\\_inj*. For a clone stamped image, *num\\_inj* number of stars will be injected in *num\\_inj* number of galaxies. One of the scenario is to stamp bright stars in the field into dim galaxies."
   ]
  },
  {
   "cell_type": "code",
   "execution_count": null,
   "metadata": {
    "collapsed": true
   },
   "outputs": [],
   "source": [
    "stamped_image = clone_image_obj.stampBrightsInDims()"
   ]
  },
  {
   "cell_type": "markdown",
   "metadata": {},
   "source": [
    "The method _stampBrightsInDims_ will return the image data after the stamping. Based on a flag in the config file, it should be possible to either modify the original image data or return a duplicate stamped image without modifying the original.\n",
    "Spotting the difference in image might be difficult visually. However, we know there is some difference between the original and stamped image"
   ]
  },
  {
   "cell_type": "code",
   "execution_count": null,
   "metadata": {},
   "outputs": [],
   "source": [
    "np.sum( np.abs(stamped_image - clone_image_obj.img_data) != 0 )"
   ]
  }
 ],
 "metadata": {
  "kernelspec": {
   "display_name": "Python 2",
   "language": "python",
   "name": "python2"
  },
  "language_info": {
   "codemirror_mode": {
    "name": "ipython",
    "version": 2
   },
   "file_extension": ".py",
   "mimetype": "text/x-python",
   "name": "python",
   "nbconvert_exporter": "python",
   "pygments_lexer": "ipython2",
   "version": "2.7.13"
  }
 },
 "nbformat": 4,
 "nbformat_minor": 2
}
